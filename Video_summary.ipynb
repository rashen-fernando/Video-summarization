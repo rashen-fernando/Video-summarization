{
  "nbformat": 4,
  "nbformat_minor": 0,
  "metadata": {
    "colab": {
      "provenance": [],
      "collapsed_sections": []
    },
    "kernelspec": {
      "name": "python3",
      "display_name": "Python 3"
    },
    "language_info": {
      "name": "python"
    }
  },
  "cells": [
    {
      "cell_type": "code",
      "execution_count": 29,
      "metadata": {
        "id": "Mq40B8lFCbgQ"
      },
      "outputs": [],
      "source": [
        "import cv2\n",
        "from google.colab.patches import cv2_imshow\n",
        "import sys\n",
        "import os\n",
        "from PIL import Image\n",
        "#import Image\n",
        "import matplotlib.image as mpimg\n",
        "import matplotlib.pyplot as plt\n",
        "import numpy as np\n",
        "import math\n",
        "from sklearn.decomposition import PCA\n",
        "\n",
        "\n",
        "\n"
      ]
    },
    {
      "cell_type": "code",
      "source": [
        "def histogram_vector(image,n):\n",
        "  hist0 = cv2.calcHist(image, [0], None, [n], [0, n])\n",
        "  hist1 = cv2.calcHist(image, [1], None, [n], [0, n])\n",
        "  hist2 = cv2.calcHist(image, [2], None, [n], [0, n])\n",
        "  hist3 = cv2.calcHist(image, [3], None, [n], [0, n])\n",
        "\n",
        "  return np.array([hist1,hist2,hist3]).reshape(3*n)\n",
        "#hist_vector = histogram_vector(image,8)\n",
        "# print(hist_vector.T.shape)\n",
        "# print(image.T[0].shape)"
      ],
      "metadata": {
        "colab": {
          "base_uri": "https://localhost:8080/"
        },
        "id": "2LhxWMhQNzbe",
        "outputId": "34c5fe68-5df8-447c-f471-e000960b2969"
      },
      "execution_count": 53,
      "outputs": [
        {
          "output_type": "stream",
          "name": "stdout",
          "text": [
            "(24,)\n",
            "(1280, 534)\n"
          ]
        }
      ]
    },
    {
      "cell_type": "code",
      "source": [
        "def pca_image(image,components):\n",
        "  l1 = PCA(n_components=components)\n",
        "  l1.fit(image.T[0])\n",
        "\n",
        "  l2 = PCA(n_components=components)\n",
        "  l2.fit(image.T[1])\n",
        "\n",
        "  l3 = PCA(n_components=components)\n",
        "  l3.fit(image.T[2])\n",
        "\n",
        "  l = [l1.singular_values_, l2.singular_values_, l3.singular_values_ ]\n",
        "  return np.array(l).reshape(3*components)\n",
        "# l = pca_image(image,8)\n",
        "# print(l.shape)"
      ],
      "metadata": {
        "colab": {
          "base_uri": "https://localhost:8080/"
        },
        "id": "-Tx7h8KBPIk3",
        "outputId": "19a4108d-c333-4945-e14e-88b7506947c3"
      },
      "execution_count": 57,
      "outputs": [
        {
          "output_type": "stream",
          "name": "stdout",
          "text": [
            "(24,)\n"
          ]
        }
      ]
    },
    {
      "cell_type": "code",
      "source": [
        "# data = np.array((l,l,l,l,l))\n",
        "# print(data.shape)\n",
        "# data = data.T\n",
        "# print(data.shape)\n",
        "# data = list(zip(data))\n",
        "# print(np.array(data))"
      ],
      "metadata": {
        "colab": {
          "base_uri": "https://localhost:8080/"
        },
        "id": "ALAd7g50atFj",
        "outputId": "a1005f0f-e090-4e18-fdd6-b0258814c8a4"
      },
      "execution_count": 91,
      "outputs": [
        {
          "output_type": "stream",
          "name": "stdout",
          "text": [
            "(5, 24)\n"
          ]
        }
      ]
    },
    {
      "cell_type": "code",
      "source": [
        "fileName = '/content/drive/MyDrive/Project Docments/lip sync/vid/3.mp4'\n",
        "videoCap = cv2.VideoCapture(fileName)\n",
        "data = np.empty((24,))\n",
        "\n",
        "for i in range(31):\n",
        "  success, image = videoCap.read()\n",
        "  l = pca_image(image,8)\n",
        "  data = np.vstack((data,l))\n",
        "\n",
        "height = len(image)\n",
        "width = len(image[0])\n",
        "cv2.destroyAllWindows()\n",
        "videoCap.release()\n",
        "\n"
      ],
      "metadata": {
        "colab": {
          "base_uri": "https://localhost:8080/"
        },
        "id": "2rYOkfZ_eprr",
        "outputId": "98708c2c-9781-41d1-8991-702776846b0c"
      },
      "execution_count": 131,
      "outputs": [
        {
          "output_type": "stream",
          "name": "stdout",
          "text": [
            "534\n"
          ]
        }
      ]
    },
    {
      "cell_type": "code",
      "source": [
        "print(width)\n",
        "print(height)\n",
        "print(np.array(image).shape)"
      ],
      "metadata": {
        "colab": {
          "base_uri": "https://localhost:8080/"
        },
        "id": "cQFmZrg0uTGS",
        "outputId": "a7760d09-e1d1-46bd-de67-6f1bb8f28430"
      },
      "execution_count": 132,
      "outputs": [
        {
          "output_type": "stream",
          "name": "stdout",
          "text": [
            "1280\n",
            "534\n",
            "(534, 1280, 3)\n"
          ]
        }
      ]
    },
    {
      "cell_type": "code",
      "source": [
        "import matplotlib.pyplot as plt\n",
        "from sklearn.cluster import KMeans\n",
        "\n",
        "kmeans = KMeans(n_clusters=16)\n",
        "kmeans.fit(data)\n",
        "lbl = kmeans.labels_\n",
        "print(lbl)\n",
        "plt.scatter(data.T[0], data.T[1], c=kmeans.labels_)\n",
        "plt.show()"
      ],
      "metadata": {
        "colab": {
          "base_uri": "https://localhost:8080/",
          "height": 300
        },
        "id": "riqjJ8bLNUaB",
        "outputId": "b51c39b7-7378-47e9-86fb-0d25277d7621"
      },
      "execution_count": 165,
      "outputs": [
        {
          "output_type": "stream",
          "name": "stdout",
          "text": [
            "[ 1  9  9  4  4  4 12 12  8  8  0  0 13  6  6 10  2  2  2  2 15 15  7  7\n",
            "  7 14 14  5 11 11  3  3]\n"
          ]
        },
        {
          "output_type": "display_data",
          "data": {
            "text/plain": [
              "<Figure size 432x288 with 1 Axes>"
            ],
            "image/png": "[encoded data removed]"
          },
          "metadata": {
            "needs_background": "light"
          }
        }
      ]
    },
    {
      "cell_type": "code",
      "source": [
        "fourcc = cv2.VideoWriter_fourcc(*'XVID')\n",
        "outputVideo = cv2.VideoWriter('output.avi', fourcc, 20.0, (width,height))\n",
        "videoCap = cv2.VideoCapture(fileName)\n",
        "\n",
        "lbl = list(lbl)\n",
        "unique_frame_index = np.sort( np.unique(lbl, return_index=True)[1] )\n",
        "\n",
        "for i in range(32):\n",
        "  success, image = videoCap.read()\n",
        "  if i in set(unique_frame_index):\n",
        "      print(lbl[i])\n",
        "      #cv2_imshow(image)\n",
        "      outputVideo.write(image)\n",
        "cv2.destroyAllWindows()\n",
        "outputVideo.release()\n",
        "  "
      ],
      "metadata": {
        "id": "M-ku0we4lvZ-"
      },
      "execution_count": null,
      "outputs": []
    },
    {
      "cell_type": "code",
      "source": [
        "import cv2\n",
        "from google.colab.patches import cv2_imshow\n",
        "import sys\n",
        "import os\n",
        "from PIL import Image\n",
        "#import Image\n",
        "import matplotlib.image as mpimg\n",
        "import numpy as np\n",
        "import math\n",
        "from sklearn.decomposition import PCA\n",
        "import matplotlib.pyplot as plt\n",
        "from sklearn.cluster import KMeans\n",
        "\n",
        "def pca_image(image,components):\n",
        "  l1 = PCA(n_components=components)\n",
        "  l1.fit(image.T[0])\n",
        "\n",
        "  l2 = PCA(n_components=components)\n",
        "  l2.fit(image.T[1])\n",
        "\n",
        "  l3 = PCA(n_components=components)\n",
        "  l3.fit(image.T[2])\n",
        "\n",
        "  l = [l1.singular_values_, l2.singular_values_, l3.singular_values_ ]\n",
        "  return np.array(l).reshape(3*components)\n",
        "# l = pca_image(image,8)\n",
        "# print(l.shape)\n",
        "\n",
        "\n",
        "def histogram_vector(image,n):\n",
        "  hist0 = cv2.calcHist(image, [0], None, [n], [0, n])\n",
        "  hist1 = cv2.calcHist(image, [1], None, [n], [0, n])\n",
        "  hist2 = cv2.calcHist(image, [2], None, [n], [0, n])\n",
        "  hist3 = cv2.calcHist(image, [3], None, [n], [0, n])\n",
        "\n",
        "  return np.array([hist1,hist2,hist3]).reshape(3*n)\n",
        "#hist_vector = histogram_vector(image,8)\n",
        "# print(hist_vector.T.shape)\n",
        "# print(image.T[0].shape)\n",
        "\n",
        "\n",
        "\n",
        "# fileName = '/content/drive/MyDrive/Project Docments/lip sync/vid/3.mp4'\n",
        "fileName = input(\"Enter video path - \")\n",
        "number_of_frames = int(input(\"number_of_frames - \"))\n",
        "expected_number_of_frames = int(input(\"expected_number_of_frames - \"))\n",
        "videoCap = cv2.VideoCapture(fileName)\n",
        "data = np.empty((24,))\n",
        "\n",
        "for i in range(number_of_frames):\n",
        "  success, image = videoCap.read()\n",
        "  l = pca_image(image,8)\n",
        "  data = np.vstack((data,l))\n",
        "  #print(i)\n",
        "\n",
        "data = data[1:33]\n",
        "height = len(image)\n",
        "width = len(image[0])\n",
        "cv2.destroyAllWindows()\n",
        "videoCap.release()\n",
        "\n",
        "\n",
        "kmeans = KMeans(n_clusters=expected_number_of_frames)\n",
        "kmeans.fit(data)\n",
        "lbl = kmeans.labels_\n",
        "# print(lbl)\n",
        "# plt.scatter(data.T[0], data.T[1], c=kmeans.labels_)\n",
        "# plt.show()\n",
        "\n",
        "\n",
        "fourcc = cv2.VideoWriter_fourcc(*'XVID')\n",
        "outputVideo = cv2.VideoWriter('output.avi', fourcc, 20.0, (width,height))\n",
        "videoCap = cv2.VideoCapture(fileName)\n",
        "\n",
        "lbl = list(lbl)\n",
        "unique_frame_index = np.sort( np.unique(lbl, return_index=True)[1] )\n",
        "\n",
        "for i in range(32):\n",
        "  success, image = videoCap.read()\n",
        "  if i in set(unique_frame_index):\n",
        "      #print(lbl[i])\n",
        "      #cv2_imshow(image)\n",
        "      outputVideo.write(image)\n",
        "cv2.destroyAllWindows()\n",
        "outputVideo.release()\n",
        "  "
      ],
      "metadata": {
        "colab": {
          "base_uri": "https://localhost:8080/"
        },
        "id": "M5yXBr4m-ZKO",
        "outputId": "f09d26ff-700b-41e6-c19f-fc8243313ef3"
      },
      "execution_count": 186,
      "outputs": [
        {
          "name": "stdout",
          "output_type": "stream",
          "text": [
            "Enter video path - /content/drive/MyDrive/Project Docments/lip sync/vid/3.mp4\n",
            "number_of_frames - 32\n",
            "expected_number_of_frames - 16\n"
          ]
        }
      ]
    }
  ]
}